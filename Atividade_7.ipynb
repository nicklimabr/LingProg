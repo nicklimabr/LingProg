{
 "cells": [
  {
   "cell_type": "markdown",
   "metadata": {},
   "source": [
    "Atividade 7\n",
    "=============\n",
    "\n",
    "1 Defina a função soma_nat que recebe como argumento um número natural  n\n",
    "  e devolve a soma de todos os números naturais até  n.\n",
    " \n",
    "Ex: soma_nat(5) = 15\n"
   ]
  },
  {
   "cell_type": "code",
   "execution_count": 7,
   "metadata": {},
   "outputs": [
    {
     "name": "stdout",
     "output_type": "stream",
     "text": [
      "28\n"
     ]
    }
   ],
   "source": [
    "soma_nat = lambda n: 1 if n==1 else n+soma_nat(n-1)\n",
    "print(soma_nat(7))"
   ]
  },
  {
   "cell_type": "markdown",
   "metadata": {},
   "source": [
    "2 Defina a função div que recebe como argumentos dois números naturais  m\n",
    "  e  n  e devolve o resultado da divisão inteira de  m  por  n. Neste exercício você não pode recorrer às operações aritméticas de multiplicação, divisão e resto da divisão inteira.\n",
    " \n",
    "Ex: div(7,2) = 3\n"
   ]
  },
  {
   "cell_type": "code",
   "execution_count": 10,
   "metadata": {},
   "outputs": [
    {
     "name": "stdout",
     "output_type": "stream",
     "text": [
      "3\n"
     ]
    }
   ],
   "source": [
    "div = lambda m, n: 0 if m<n else 1+div(m-n,n)\n",
    "print(div(7,2))"
   ]
  },
  {
   "cell_type": "markdown",
   "metadata": {},
   "source": [
    "3 Defina a função prim_alg que recebe como argumento um número natural e devolve o primeiro algarismo (o mais significativo) na representação decimal de  n.\n",
    " \n",
    "Ex: prim_alg(5649) = 5\n",
    "Ex: prim_alg(7) = 7\n"
   ]
  },
  {
   "cell_type": "code",
   "execution_count": 3,
   "metadata": {},
   "outputs": [
    {
     "name": "stdout",
     "output_type": "stream",
     "text": [
      "5\n"
     ]
    }
   ],
   "source": [
    "prim_alg = lambda x: x if x < 10 else prim_alg(int(x/10))\n",
    "print(prim_alg(5649))"
   ]
  },
  {
   "cell_type": "markdown",
   "metadata": {},
   "source": [
    "4 Defina a função prod_lista que recebe como argumento uma lista de inteiros e devolve o produto dos seus elementos.\n",
    " \n",
    "Ex: prod_lista([1,2,3,4,5,6]) = 720"
   ]
  },
  {
   "cell_type": "code",
   "execution_count": 2,
   "metadata": {},
   "outputs": [
    {
     "name": "stdout",
     "output_type": "stream",
     "text": [
      "720\n"
     ]
    }
   ],
   "source": [
    "prod_lista = lambda nums: nums[0] if len(nums) <= 1 else nums[0]*prod_lista(nums[1:])\n",
    "print(prod_lista([1,2,3,4,5,6]))"
   ]
  },
  {
   "cell_type": "markdown",
   "metadata": {},
   "source": [
    "5 Defina a função contem_parQ que recebe como argumento uma lista de números inteiros  w e devolve True se w contém um número par e False em caso contrário.\n",
    " \n",
    "Ex: contem_parQ([2,3,1,2,3,4]) = True\n",
    "Ex: contem_parQ([1,3,5,7]) = False\n"
   ]
  },
  {
   "cell_type": "code",
   "execution_count": null,
   "metadata": {},
   "outputs": [],
   "source": [
    "contem_parQ = lambda lista: False if len(lista)==0 else True if lista.pop()%2==0 else contem_parQ(lista)\n",
    "\n",
    "inteiros = list(map(int,input(\"Digite uma lista de números inteiros separados por espaço: \").split()))\n",
    "\n",
    "t0 = time.time()\n",
    "print(contem_parQ(inteiros))\n",
    "\n",
    "print('Começando o teste')\n",
    "assert(contem_parQ([1,2,3,4,5]) == True)\n",
    "assert(contem_parQ([5,3,8]) == True)\n",
    "assert(contem_parQ([4,5,3,]) == True)\n",
    "assert(contem_parQ([0,1,5,3]) == True)\n",
    "assert(contem_parQ([1,55,31]) == False)\n",
    "print('Terminou')\n",
    "t1 = time.time()\n",
    "print(\"O cálculo + teste levaram: %.5f s\" %(t1-t0))"
   ]
  },
  {
   "cell_type": "markdown",
   "metadata": {},
   "source": [
    "6 Defina a função todos_imparesQ que recebe como argumento uma lista de números inteiros w e devolve True se  w contém apenas números ímpares e False em caso contrário.\n",
    " \n",
    "Ex: todos_imparesQ([1,3,5,7]) = True\n",
    "Ex: todos_imparesQ([]) = True\n",
    "Ex: todos_imparesQ([1,2,3,4,5]) = False\n"
   ]
  },
  {
   "cell_type": "code",
   "execution_count": null,
   "metadata": {},
   "outputs": [],
   "source": [
    "todos_imparesQ = lambda lista: True if len(lista)==0 else False if lista.pop()%2==0 else todos_imparesQ(lista)\n",
    "\n",
    "inteiros = list(map(int,input(\"Digite uma lista de números inteiros separados por espaço: \").split()))\n",
    "\n",
    "t0 = time.time()\n",
    "print(todos_imparesQ(inteiros))\n",
    "\n",
    "print('Começando o teste')\n",
    "assert(todos_imparesQ([1,2,3,4,5]) == False)\n",
    "assert(todos_imparesQ([5,3,8]) == False)\n",
    "assert(todos_imparesQ([4,5,3,]) == False)\n",
    "assert(todos_imparesQ([0,1,5,3]) == False)\n",
    "assert(todos_imparesQ([1,55,31]) == True)\n",
    "print('Terminou')\n",
    "t1 = time.time()\n",
    "print(\"O cálculo + teste levaram: %.5f s\" %(t1-t0))"
   ]
  },
  {
   "cell_type": "markdown",
   "metadata": {},
   "source": [
    "\n",
    "7  Defina a função pertenceQ que recebe como argumentos uma lista de números inteiros w e um número inteiro n e devolve True se n ocorre em w e False em caso contrário.\n",
    "\n",
    "Ex: pertenceQ([1,2,3],1) = True Ex: pertenceQ([1,2,3],2) = True Ex: pertenceQ([1,2,3],3) = True Ex: pertenceQ([1,2,3],4) = False"
   ]
  },
  {
   "cell_type": "code",
   "execution_count": null,
   "metadata": {},
   "outputs": [],
   "source": [
    "pertenceQ = lambda lista, num: False if len(lista)==0 else True if lista.pop()==num else pertenceQ(lista, num)\n",
    "\n",
    "inteiros = list(map(int,input(\"Digite uma lista de números inteiros separados por espaço: \").split()))\n",
    "verificador = int(input(\"Digite um número inteiro para verificar se está na lista: \"))\n",
    "\n",
    "t0 = time.time()\n",
    "print(pertenceQ(inteiros, verificador))\n",
    "\n",
    "print('Começando o teste')\n",
    "assert(pertenceQ([1,2,3,4,5],6) == False)\n",
    "assert(pertenceQ([5,3,8],-5) == False)\n",
    "assert(pertenceQ([4,5,3,],5) == True)\n",
    "assert(pertenceQ([0,1,5,3],0) == True)\n",
    "assert(pertenceQ([1,55,31],31) == True)\n",
    "assert(pertenceQ([1,-55,31],-55) == True)\n",
    "print('Terminou')\n",
    "t1 = time.time()\n",
    "print(\"O cálculo + teste levaram: %.5f s\" %(t1-t0))"
   ]
  },
  {
   "cell_type": "markdown",
   "metadata": {},
   "source": [
    "8 - Defina a função junta que recebe como argumentos duas listas de números inteiros w1 e w2 e devolve a concatenação de w1 com w2 .\n",
    "\n",
    "Ex: junta([1,2,3],[4,5,6]) = [1, 2, 3, 4, 5, 6] Ex: junta([],[4,5,6]) = [4, 5, 6] Ex: junta([1,2,3],[]) = [1, 2, 3]"
   ]
  },
  {
   "cell_type": "code",
   "execution_count": null,
   "metadata": {},
   "outputs": [],
   "source": [
    "junta = lambda lista1, lista2: lista1 if len(lista2)==0 else junta(lista1, lista2) if lista1.append(lista2.pop(0)) == None else None\n",
    "\n",
    "\n",
    "inteiros1 = list(map(int,input(\"Digite uma lista de números inteiros separados por espaço: \").split()))\n",
    "inteiros2 = list(map(int,input(\"Digite uma segunda lista de números inteiros separados por espaço: \").split()))\n",
    "\n",
    "t0 = time.time()\n",
    "print(junta(inteiros1, inteiros2))\n",
    "\n",
    "print('Começando o teste')\n",
    "assert(junta([1,2,3],[4,5,6]) == [1, 2, 3, 4, 5, 6])\n",
    "assert(junta([],[4,5,6]) == [4, 5, 6])\n",
    "assert(junta([1,2,3],[]) == [1, 2, 3])\n",
    "assert(junta([100,20,30],[12,-5,0]) == [100,20,30,12,-5,0])\n",
    "print('Terminou')\n",
    "t1 = time.time()\n",
    "print(\"O cálculo + teste levaram: %.5f s\" %(t1-t0))"
   ]
  },
  {
   "cell_type": "markdown",
   "metadata": {},
   "source": [
    "\n",
    "9 - Defina a função temPrimoQ que recebe como argumento uma lista de listas de números inteiros w e devolve True se alguma das sublistas w tem um número primo e False em caso contrário.\n",
    "\n",
    "Ex: temPrimoQ([[4,4,4,4],[5,4,6,7],[2,4,3]]) = True Ex: temPrimoQ([[4,4,4,4],[4,4,4],[],[4]]) = False"
   ]
  },
  {
   "cell_type": "code",
   "execution_count": null,
   "metadata": {},
   "outputs": [],
   "source": [
    "isPrimo = lambda num, n=2: False if num <= 1 else True if n == num else False if num % (n) == 0 else isPrimo(num, n + 1)\n",
    "temPrimoQ = lambda lista: False if len(lista) == 0 else temPrimoQ(lista) if len(lista[0]) == 0 and not lista.pop(0) == None else True if isPrimo(lista[0].pop(0)) else temPrimoQ(lista)\n",
    "\n",
    "def t()\n",
    "    print('Começando o teste')\n",
    "    assert(temPrimoQ([[4,4,4,4],[5,4,6,7],[2,4,3]]) == True)\n",
    "    assert(temPrimoQ([[4,4,4,4],[4,4,4],[],[4]]) == False)\n",
    "    assert(temPrimoQ([[4,4,4,4],[],[5,4,6,7],[2,4,3]]) == True)\n",
    "    assert(temPrimoQ([[4,4,4,4],[4,4,4],[],[4],[0,1]]) == False)\n",
    "    print('Terminou')\n",
    "    \n",
    "def valores():\n",
    "    positive = [\"sim\", \"yes\", \"true\", \"s\", \"y\"]\n",
    "    adiciona = True\n",
    "    inteiros = [list(map(int,input(\"Digite uma lista de números inteiros separados por espaço: \").split()))]\n",
    "    while(adiciona):\n",
    "        menu = input(\"Deseja criar uma nova sublista de inteiros? \")\n",
    "        if(menu in positive):\n",
    "            new_list = list(map(int,input(\"Digite a sublista de números inteiros separados por espaço: \").split()))\n",
    "            inteiros.append(new_list)\n",
    "            new_list = []\n",
    "        else:\n",
    "            adiciona = False\n",
    "    print(inteiros)\n",
    "    return inteiros\n",
    "\n",
    "t0 = time.time()\n",
    "print(temPrimoQ(valores()))\n",
    "testes()\n",
    "t1 = time.time()\n",
    "print(\"O cálculo + teste levaram: %.5f s\" %(t1-t0))"
   ]
  },
  {
   "cell_type": "markdown",
   "metadata": {},
   "source": [
    "\n",
    "10 - Defina a função inverteLista que recebe como argumento uma lista w e devolve a mesma lista mas invertida.\n",
    "\n",
    "Ex: inverteLista([1,2,3,4,5]) = [5, 4, 3, 2, 1] Ex: inverteLista([])"
   ]
  },
  {
   "cell_type": "code",
   "execution_count": null,
   "metadata": {},
   "outputs": [],
   "source": [
    "inverteLista = lambda lista: lista if lista.reverse() == None else lista\n",
    "\n",
    "def t()\n",
    "    print('Começando o teste')\n",
    "    assert(inverteLista([1,2,3,4,5]) == [5, 4, 3, 2, 1])\n",
    "    assert(inverteLista([]) == [])\n",
    "    assert(inverteLista([-7,4,-8,0]) == [0,-8,4,-7])\n",
    "    print('Terminou')\n",
    "    \n",
    "def valores():\n",
    "    lista_int = list(map(int,input(\"Digite uma lista de números inteiros separados por espaço: \").split()))\n",
    "    print(lista_int)\n",
    "    return lista_int\n",
    "    \n",
    "t0 = time.time()\n",
    "print(inverteLista(valores()))\n",
    "testes()\n",
    "t1 = time.time()\n",
    "print(\"O cálculo + teste levaram: %.5f s\" %(t1-t0))"
   ]
  }
 ],
 "metadata": {
  "kernelspec": {
   "display_name": "Python 3",
   "language": "python",
   "name": "python3"
  },
  "language_info": {
   "codemirror_mode": {
    "name": "ipython",
    "version": 3
   },
   "file_extension": ".py",
   "mimetype": "text/x-python",
   "name": "python",
   "nbconvert_exporter": "python",
   "pygments_lexer": "ipython3",
   "version": "3.7.6"
  }
 },
 "nbformat": 4,
 "nbformat_minor": 4
}
