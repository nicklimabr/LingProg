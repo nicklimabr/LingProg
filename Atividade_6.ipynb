{
 "cells": [
  {
   "cell_type": "markdown",
   "metadata": {},
   "source": [
    "Atividade 6\n",
    "=============\n",
    "\n",
    "1 Defina a função soma_nat que recebe como argumento um número natural  n\n",
    "  e devolve a soma de todos os números naturais até  n.\n",
    " \n",
    "Ex: soma_nat(5) = 15\n"
   ]
  },
  {
   "cell_type": "code",
   "execution_count": 4,
   "metadata": {},
   "outputs": [
    {
     "name": "stdout",
     "output_type": "stream",
     "text": [
      "21\n"
     ]
    }
   ],
   "source": [
    "def soma_nat(n):\n",
    "    return n if n==0 else n+soma_nat(n-1)\n",
    "\n",
    "n = 6\n",
    "print(soma_nat(n))"
   ]
  },
  {
   "cell_type": "markdown",
   "metadata": {},
   "source": [
    "2 Defina a função div que recebe como argumentos dois números naturais  m\n",
    "  e  n  e devolve o resultado da divisão inteira de  m  por  n. Neste exercício você não pode recorrer às operações aritméticas de multiplicação, divisão e resto da divisão inteira.\n",
    " \n",
    "Ex: div(7,2) = 3\n"
   ]
  },
  {
   "cell_type": "code",
   "execution_count": 3,
   "metadata": {},
   "outputs": [
    {
     "data": {
      "text/plain": [
       "3"
      ]
     },
     "execution_count": 3,
     "metadata": {},
     "output_type": "execute_result"
    }
   ],
   "source": [
    "def div(m, n):\n",
    "    return 0 if m<n else 1+div(m-n,n)\n",
    "\n",
    "div(9,3)"
   ]
  },
  {
   "cell_type": "markdown",
   "metadata": {},
   "source": [
    "3 Defina a função prim_alg que recebe como argumento um número natural e devolve o primeiro algarismo (o mais significativo) na representação decimal de  n.\n",
    " \n",
    "Ex: prim_alg(5649) = 5\n",
    "Ex: prim_alg(7) = 7\n"
   ]
  },
  {
   "cell_type": "code",
   "execution_count": 7,
   "metadata": {},
   "outputs": [
    {
     "name": "stdout",
     "output_type": "stream",
     "text": [
      "8\n"
     ]
    }
   ],
   "source": [
    "def prim_alg(n):\n",
    "    return n if n < 10 else prim_alg(int(n/10))\n",
    "\n",
    "print(prim_alg(876))"
   ]
  },
  {
   "cell_type": "markdown",
   "metadata": {},
   "source": [
    "4 Defina a função prod_lista que recebe como argumento uma lista de inteiros e devolve o produto dos seus elementos.\n",
    " \n",
    "Ex: prod_lista([1,2,3,4,5,6]) = 720\n"
   ]
  },
  {
   "cell_type": "code",
   "execution_count": 7,
   "metadata": {},
   "outputs": [
    {
     "name": "stdout",
     "output_type": "stream",
     "text": [
      "720\n"
     ]
    }
   ],
   "source": [
    "def prod_lista(nums):\n",
    "    length = len(nums)\n",
    "    return nums[0] if length <= 1 else nums[0] * prod_lista(nums[1:])\n",
    "\n",
    "lst =[1,2,3,4,5,6]\n",
    "print(prod_lista(lst))"
   ]
  },
  {
   "cell_type": "markdown",
   "metadata": {},
   "source": [
    "5 Defina a função contem_parQ que recebe como argumento uma lista de números inteiros  w e devolve True se w contém um número par e False em caso contrário.\n",
    " \n",
    "Ex: contem_parQ([2,3,1,2,3,4]) = True\n",
    "Ex: contem_parQ([1,3,5,7]) = False"
   ]
  },
  {
   "cell_type": "code",
   "execution_count": 12,
   "metadata": {},
   "outputs": [
    {
     "name": "stdout",
     "output_type": "stream",
     "text": [
      "False\n"
     ]
    }
   ],
   "source": [
    "def contem_parQ(w):\n",
    "    res = False if len(w) == 0 or (w[len(w) - 1] % 2 != 0 and not contem_parQ(w[:-1])) else True\n",
    "    return res\n",
    "print(contem_parQ([5,7,9]))"
   ]
  },
  {
   "cell_type": "markdown",
   "metadata": {},
   "source": [
    "6 Defina a função todos_imparesQ que recebe como argumento uma lista de números inteiros w e devolve True se  w contém apenas números ímpares e False em caso contrário.\n",
    " \n",
    "Ex: todos_imparesQ([1,3,5,7]) = True\n",
    "Ex: todos_imparesQ([]) = True\n",
    "Ex: todos_imparesQ([1,2,3,4,5]) = False\n"
   ]
  },
  {
   "cell_type": "code",
   "execution_count": 15,
   "metadata": {},
   "outputs": [
    {
     "name": "stdout",
     "output_type": "stream",
     "text": [
      "False\n"
     ]
    }
   ],
   "source": [
    "def todos_imparesQ(w):\n",
    "    res = True if len(w)==0 or w[len(w) -1]%2 !=0 and todos_imparesQ(w[:-1]) else False\n",
    "    return res\n",
    "print(todos_imparesQ([1,2,5]))"
   ]
  },
  {
   "cell_type": "markdown",
   "metadata": {},
   "source": [
    "7 Defina a função pertenceQ que recebe como argumentos uma lista de números inteiros  w  e um número inteiro  n  e devolve True se  n  ocorre em  w  e False em caso contrário.\n",
    " \n",
    "Ex: pertenceQ([1,2,3],1) = True\n",
    "Ex: pertenceQ([1,2,3],2) = True\n",
    "Ex: pertenceQ([1,2,3],3) = True\n",
    "Ex: pertenceQ([1,2,3],4) = False\n"
   ]
  },
  {
   "cell_type": "code",
   "execution_count": 19,
   "metadata": {},
   "outputs": [
    {
     "name": "stdout",
     "output_type": "stream",
     "text": [
      "True\n",
      "False\n"
     ]
    }
   ],
   "source": [
    "def pertenceQ(w, n):\n",
    "    res = False if len(w)==0 or w[0] != n and not pertenceQ(w[1:],n) else True\n",
    "    return res\n",
    "    \n",
    "print(pertenceQ([1,2,3], 3))\n",
    "print(pertenceQ([1,2,3], 4))"
   ]
  },
  {
   "cell_type": "markdown",
   "metadata": {},
   "source": [
    "8 Defina a função junta que recebe como argumentos duas listas de números inteiros  w1  e  w2  e devolve a concatenação de  w1  com  w2 .\n",
    " \n",
    "Ex: junta([1,2,3],[4,5,6]) = [1, 2, 3, 4, 5, 6]\n",
    "Ex: junta([],[4,5,6]) = [4, 5, 6]\n",
    "Ex: junta([1,2,3],[]) = [1, 2, 3]\n"
   ]
  },
  {
   "cell_type": "code",
   "execution_count": null,
   "metadata": {},
   "outputs": [],
   "source": [
    "\n",
    "def junta(w1, w2):\n",
    "    if(w2):\n",
    "        w1.append(w2[0])\n",
    "        w2.pop(0)\n",
    "        return junta(w1,w2)\n",
    "    else:\n",
    "        return w1\n",
    "    \n",
    "inteiros1 = list(map(int,input(\"Digite uma lista de números inteiros separados por espaço: \").split()))\n",
    "inteiros2 = list(map(int,input(\"Digite uma segunda lista de números inteiros separados por espaço: \").split()))\n",
    "print(junta(inteiros1, inteiros2))\n",
    "\n",
    "print('Começando o teste')\n",
    "assert(junta([1,2,3],[4,5,6]) == [1, 2, 3, 4, 5, 6])\n",
    "assert(junta([],[4,5,6]) == [4, 5, 6])\n",
    "assert(junta([1,2,3],[]) == [1, 2, 3])\n",
    "assert(junta([100,20,30],[12,-5,0]) == [100,20,30,12,-5,0])\n",
    "print('Terminou')"
   ]
  },
  {
   "cell_type": "markdown",
   "metadata": {},
   "source": [
    " \n",
    "9 Defina a função temPrimoQ que recebe como argumento uma lista de listas de números inteiros  w  e devolve True se alguma das sublistas  w  tem um número primo e False em caso contrário.\n",
    " \n",
    "Ex: temPrimoQ([[4,4,4,4],[5,4,6,7],[2,4,3]]) = True\n",
    "Ex: temPrimoQ([[4,4,4,4],[4,4,4],[],[4]]) = False\n"
   ]
  },
  {
   "cell_type": "code",
   "execution_count": null,
   "metadata": {},
   "outputs": [],
   "source": [
    "def temPrimoQ(w):\n",
    "    if(w):\n",
    "        if(w[0]):\n",
    "            if(isPrimo(w[0][0])):\n",
    "                return True\n",
    "            w[0].pop(0)\n",
    "            return temPrimoQ(w)\n",
    "        w.pop(0)\n",
    "        return temPrimoQ(w)\n",
    "    return False\n",
    "            \n",
    "def isPrimo(x):\n",
    "    if(x == 1 or x == 0):\n",
    "        return False\n",
    "    else:\n",
    "        mult=0\n",
    "        for count in range(2,x):\n",
    "            if (x % count == 0):\n",
    "                mult += 1\n",
    "        if(mult==0):\n",
    "            return True\n",
    "        else:\n",
    "            return False\n",
    "def t:\n",
    "    print('Começando o teste')\n",
    "    assert(temPrimoQ([[4,4,4,4],[5,4,6,7],[2,4,3]]) == True)\n",
    "    assert(temPrimoQ([[4,4,4,4],[4,4,4],[],[4]]) == False)\n",
    "    assert(temPrimoQ([[4,4,4,4],[],[5,4,6,7],[2,4,3]]) == True)\n",
    "    assert(temPrimoQ([[4,4,4,4],[4,4,4],[],[4],[0,1]]) == False)\n",
    "    print('Terminou')\n",
    "    \n",
    "def valores():\n",
    "    positive = [\"sim\", \"yes\", \"true\", \"s\", \"y\"]\n",
    "    adiciona = True\n",
    "    inteiros = [list(map(int,input(\"Digite uma lista de números inteiros separados por espaço: \").split()))]\n",
    "    while(adiciona):\n",
    "        menu = input(\"Deseja criar uma nova sublista de inteiros? \")\n",
    "        if(menu in positive):\n",
    "            new_list = list(map(int,input(\"Digite a sublista de números inteiros separados por espaço: \").split()))\n",
    "            inteiros.append(new_list)\n",
    "            new_list = []\n",
    "        else:\n",
    "            adiciona = False\n",
    "    print(inteiros)\n",
    "    return inteiros\n",
    "    \n",
    "print(temPrimoQ(valores()))\n",
    "t()"
   ]
  },
  {
   "cell_type": "markdown",
   "metadata": {},
   "source": [
    "10 Defina a função inverteLista que recebe como argumento uma lista  w e devolve a mesma lista mas invertida.\n",
    " \n",
    "Ex: inverteLista([1,2,3,4,5]) = [5, 4, 3, 2, 1]\n",
    "Ex: inverteLista([])\n"
   ]
  },
  {
   "cell_type": "code",
   "execution_count": null,
   "metadata": {},
   "outputs": [],
   "source": [
    "    def inverterLista(w)\n",
    "    if(w):\n",
    "        x = w[0]\n",
    "        w.pop(0)\n",
    "        if(not w):\n",
    "            return [x]\n",
    "        new_w = inverteLista(w)\n",
    "        new_w.append(x)\n",
    "        return new_w\n",
    "    return w\n",
    "\n",
    "def testes():\n",
    "    print('Começando o teste')\n",
    "    assert(inverteLista([1,2,3,4,5]) == [5, 4, 3, 2, 1])\n",
    "    assert(inverteLista([]) == [])\n",
    "    assert(inverteLista([-7,4,-8,0]) == [0,-8,4,-7])\n",
    "    print('Terminou')\n",
    "    \n",
    "def valores():\n",
    "    lista_int = list(map(int,input(\"Digite uma lista de números inteiros separados por espaço: \").split()))\n",
    "    print(lista_int)\n",
    "    return lista_int\n",
    "    \n",
    "print(inverteLista(valores()))\n",
    "testes()"
   ]
  }
 ],
 "metadata": {
  "kernelspec": {
   "display_name": "Python 3",
   "language": "python",
   "name": "python3"
  },
  "language_info": {
   "codemirror_mode": {
    "name": "ipython",
    "version": 3
   },
   "file_extension": ".py",
   "mimetype": "text/x-python",
   "name": "python",
   "nbconvert_exporter": "python",
   "pygments_lexer": "ipython3",
   "version": "3.7.6"
  }
 },
 "nbformat": 4,
 "nbformat_minor": 4
}
