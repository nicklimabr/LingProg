{
 "cells": [
  {
   "cell_type": "markdown",
   "metadata": {},
   "source": [
    "Atividade 1\n",
    "========\n",
    "1 Faça um Programa que peça o raio de um círculo, calcule e mostre sua área.\n"
   ]
  },
  {
   "cell_type": "code",
   "execution_count": null,
   "metadata": {},
   "outputs": [],
   "source": [
    "pi = 3.14\n",
    "raio = float (input (\"Digite o raio:\"))\n",
    "area = pi*(raio*raio)\n",
    "print(\"A área do círculo é:\",area)"
   ]
  },
  {
   "cell_type": "markdown",
   "metadata": {},
   "source": [
    "2 Faça um Programa que calcule a área de um quadrado, em seguida mostre o dobro\n",
    "desta área para o usuário."
   ]
  },
  {
   "cell_type": "code",
   "execution_count": null,
   "metadata": {},
   "outputs": [],
   "source": [
    "lado = float (input(\"Insira o valor do lado em metros:\"))\n",
    "area = lado*lado\n",
    "print (\"O dobro da área é: \",area*2)"
   ]
  },
  {
   "cell_type": "markdown",
   "metadata": {},
   "source": [
    "\n",
    "3 Faça um Programa que pergunte quanto você ganha por hora e o número de horas\n",
    "trabalhadas no mês. Calcule e mostre o total do seu salário no referido mês."
   ]
  },
  {
   "cell_type": "code",
   "execution_count": null,
   "metadata": {},
   "outputs": [],
   "source": [
    "salarioHora = int (input(\"Digite seu salário por hora: \"))\n",
    "horasTrabalhadas = int (input(\"Número de horas trabalhadas no mês: \"))\n",
    "salarioMes = salarioHora*horasTrabalhadas\n",
    "print(\"O valor total por mês é :\", salarioMes)"
   ]
  },
  {
   "cell_type": "markdown",
   "metadata": {},
   "source": [
    "4 Faça um Programa que peça a temperatura em graus Farenheit, transforme e\n",
    "mostre a temperatura em graus Celsius. C = (5 * (F-32) / 9)."
   ]
  },
  {
   "cell_type": "code",
   "execution_count": null,
   "metadata": {},
   "outputs": [],
   "source": [
    "f = float (input(\"Temperatura em F: \"))\n",
    "c = (5*(f-32)/9)\n",
    "print(\"O valor convertido de F para C é :\",c)\n",
    "\n",
    "\n"
   ]
  },
  {
   "cell_type": "markdown",
   "metadata": {},
   "source": [
    "5 Faça um Programa que peça a temperatura em graus Celsius, transforme e mostre\n",
    "em graus Farenheit."
   ]
  },
  {
   "cell_type": "code",
   "execution_count": null,
   "metadata": {},
   "outputs": [],
   "source": [
    "c = float (input(\"Temperatura em C: \"))\n",
    "f = c*(9/5)+32\n",
    "print(\"O valor convertido de C para F é :\",f)"
   ]
  },
  {
   "cell_type": "markdown",
   "metadata": {},
   "source": [
    "6 Faça um Programa que peça 2 números inteiros e um número real. Calcule e\n",
    "mostre:\n",
    "- o produto do dobro do primeiro com metade do segundo .\n",
    "- a soma do triplo do primeiro com o terceiro.\n",
    "- o terceiro elevado ao cubo."
   ]
  },
  {
   "cell_type": "code",
   "execution_count": null,
   "metadata": {},
   "outputs": [],
   "source": [
    "a = int (input(\"Digite um numero inteiro\"))\n",
    "b = int (input(\"Digite outro numero inteiro\"))\n",
    "c = float (input(\"Digite um numero real\"))\n",
    "produto = (a*2)*(b/2)\n",
    "print (\"O produto do dobro do primeiro com metade do segundo é :\",produto)\n",
    "soma = (a*3)+(c)\n",
    "print (\"A soma do triplo do primeiro com o terceiro\",soma)\n",
    "cubo = c**3\n",
    "print (\"O cubo do terceiro é:\",cubo)"
   ]
  },
  {
   "cell_type": "markdown",
   "metadata": {},
   "source": [
    "7 João Papo-de-Pescador, homem de bem, comprou um microcomputador para\n",
    "controlar o rendimento diário de seu trabalho. Toda vez que ele traz um peso de\n",
    "peixes maior que o estabelecido pelo regulamento de pesca do estado de São Paulo\n",
    "(50 quilos) deve pagar uma multa de R$ 4,00 por quilo excedente. João precisa que\n",
    "você faça um programa que leia a variável peso (peso de peixes) e verifique se há excesso. Se houver, gravar na variável excesso e na variável multa o valor da multa\n",
    "que João deverá pagar. Caso contrário mostrar tais variáveis com o conteúdo ZERO."
   ]
  },
  {
   "cell_type": "code",
   "execution_count": null,
   "metadata": {},
   "outputs": [],
   "source": [
    "peso = float (input(\"Digite o peso do peixe:\"))\n",
    "taxa = 4\n",
    "if(peso>50):\n",
    "    print(\" A taxa é de:\", taxa*(peso - 50), \"R$\")\n",
    "else:\n",
    "    print(\"Não há taxa adicional\")"
   ]
  },
  {
   "cell_type": "markdown",
   "metadata": {},
   "source": [
    "8 Faça um Programa que pergunte quanto você ganha por hora e o número de horas\n",
    "trabalhadas no mês. Calcule e mostre o total do seu salário no referido mês,\n",
    "sabendo-se que são descontados 11% para o Imposto de Renda, 8% para o INSS e 5%\n",
    "para o sindicato, faça um programa que nos dê:\n",
    "- salário bruto.\n",
    "- quanto pagou ao INSS.\n",
    "- quanto pagou ao sindicato.\n",
    "- o salário líquido.\n",
    "- calcule os descontos e o salário líquido, conforme a tabela abaixo:\n",
    "+ Salário Bruto : R$\n",
    "- IR (11%) : R$\n",
    "- INSS (8%) : R$\n",
    "- Sindicato ( 5%) : R$\n",
    "= Salário Liquido : R$\n",
    "Obs.: Salário Bruto - Descontos = Salário Líquido."
   ]
  },
  {
   "cell_type": "code",
   "execution_count": null,
   "metadata": {},
   "outputs": [],
   "source": [
    "salarioHora = int (input(\"Quanto você ganha por hora?\"))\n",
    "horasMes = float (input (\"Horas trabalhadas no mês:\"))\n",
    "salarioBruto = salarioHora*horasMes\n",
    "inss =  0.08\n",
    "impostoInss = salarioBruto*inss\n",
    "renda = 0.11\n",
    "impostoRenda = salarioBruto*renda\n",
    "sindicato = 0.05\n",
    "impostoSindicato = salarioBruto*sindicato\n",
    "salarioLiquido = (salarioBruto)-(impostoInss+impostoRenda+impostoSindicato)\n",
    "descontoTotal = impostoInss+impostoRenda+impostoSindicato\n",
    "\n",
    "print (\"Seu salário bruto é de:\", salarioBruto)\n",
    "print (\"Quantia paga ao INSS:\", impostoInss)\n",
    "print (\"Quantia paga ao Imposto de Renda:\", impostoRenda)\n",
    "print (\"Quantia paga ao Sindicato:\", impostoSindicato)\n",
    "print (\"Seu salário líquido é de:\", salarioLiquido)\n",
    "print (\"Valores descontados:\", descontoTotal)"
   ]
  },
  {
   "cell_type": "markdown",
   "metadata": {},
   "source": [
    "9 Faça um programa que leia 2 strings e informe o conteúdo delas seguido do seu\n",
    "comprimento. Informe também se as duas strings possuem o mesmo comprimento e\n",
    "são iguais ou diferentes no conteúdo."
   ]
  },
  {
   "cell_type": "code",
   "execution_count": null,
   "metadata": {},
   "outputs": [],
   "source": [
    "string_1 = (input (\"Digite uma string:\"))\n",
    "string_2 = (input (\"Digite outra string:\"))\n",
    "\n",
    "print (string_1+\":\", \"O comprimento da primeira string é:\", len(string_1))\n",
    "print (string_2+\":\", \"O comprimento da segunda string é:\", len(string_2))\n",
    "\n",
    "if (len(string_1)>len(string_2)):\n",
    "    print ((string_1)+\" é a string de maior comprimento\")\n",
    "elif (len(string_1)<len(string_2)):\n",
    "    print ((string_2)+\" é a string de maior comprimento\")\n",
    "else:\n",
    "    print (\"as strings têm o mesmo comprimento\")\n",
    "\n",
    "if ((string_1)==(string_2)):\n",
    "    print (\"o conteúdo das strings é igual\")\n",
    "else:\n",
    "    print (\"o conteúdo das strings é diferente\")"
   ]
  },
  {
   "cell_type": "markdown",
   "metadata": {},
   "source": [
    "10 Faça um programa que permita ao usuário digitar o seu nome e em seguida\n",
    "mostre o nome do usuário de trás para frente utilizando somente letras maiúsculas.\n",
    "Dica: lembre−se que ao informar o nome o usuário pode digitar letras maiúsculas ou\n",
    "minúsculas. Observação: não use loops."
   ]
  },
  {
   "cell_type": "code",
   "execution_count": null,
   "metadata": {},
   "outputs": [],
   "source": [
    "stringNome = (input (\"Digite seu nome:\"))\n",
    "print (stringNome[::-1].upper())"
   ]
  },
  {
   "cell_type": "markdown",
   "metadata": {},
   "source": [
    "11 Faça um programa que solicite a data de nascimento (dd/mm/aaaa) do usuário e\n",
    "imprima a data com o nome do mês por extenso."
   ]
  },
  {
   "cell_type": "code",
   "execution_count": null,
   "metadata": {},
   "outputs": [],
   "source": [
    "diaNasc = int (input(\"Informe o dia do seu nascimento tipo int:\"))\n",
    "mesNasc = int (input (\"Informe o mês do seu nascimento tipo int\"))\n",
    "anoNasc = int (input (\"Informe o ano do seu nascimento tipo int\"))\n",
    "    \n",
    "if (mesNasc == 1):\n",
    "    mesNasc = \"Janeiro\"\n",
    "elif (mesNasc == 2):\n",
    "    mesNasc = \"Fevereiro\"\n",
    "elif (mesNasc == 3):\n",
    "    mesNasc = \"Março\"\n",
    "elif (mesNasc == 4):\n",
    "    mesNasc = \"Abril\"    \n",
    "elif (mesNasc == 5):\n",
    "    mesNasc = \"Maio\"\n",
    "elif (mesNasc == 6):\n",
    "    mesNasc = \"Junho\"\n",
    "elif (mesNasc == 7):\n",
    "    mesNasc = \"Julho\"\n",
    "elif (mesNasc == 8):\n",
    "    mesNasc = \"Agosto\"\n",
    "elif (mesNasc == 9):\n",
    "    mesNasc = \"Setembro\"\n",
    "elif (mesNasc == 10):\n",
    "    mesNasc = \"Outubro\"\n",
    "elif (mesNasc == 11):\n",
    "    mesNasc = \"Novembro\"\n",
    "elif (mesNasc == 12):\n",
    "    mesNasc = \"Dezembro\"\n",
    "\n",
    "dataNasc = \"(\"+str(diaNasc)+\" de \"+str(mesNasc)+\" de \"+str(anoNasc)+\")\"\n",
    "print (dataNasc)"
   ]
  }
 ],
 "metadata": {
  "kernelspec": {
   "display_name": "Python 3",
   "language": "python",
   "name": "python3"
  },
  "language_info": {
   "codemirror_mode": {
    "name": "ipython",
    "version": 3
   },
   "file_extension": ".py",
   "mimetype": "text/x-python",
   "name": "python",
   "nbconvert_exporter": "python",
   "pygments_lexer": "ipython3",
   "version": "3.7.6"
  }
 },
 "nbformat": 4,
 "nbformat_minor": 4
}
