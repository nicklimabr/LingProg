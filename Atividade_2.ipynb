{
 "cells": [
  {
   "cell_type": "markdown",
   "metadata": {},
   "source": [
    "Atividade 2 para ??/03/2020\n",
    "=========\n",
    "1 Crie um programa que recebe uma lista de números e\n",
    "- retorne o maior elemento\n",
    "- retorne a soma dos elementos\n",
    "- retorne o número de ocorrências do primeiro elemento da lista\n",
    "- retorne a média dos elementos\n",
    "- retorne o valor mais próximo da média dos elementos\n",
    "- retorne a soma dos elementos com valor negativo\n",
    "- retorne a quantidade de vizinhos iguais"
   ]
  },
  {
   "cell_type": "code",
   "execution_count": null,
   "metadata": {},
   "outputs": [],
   "source": [
    "lstNumeros = [15,11,10,15,8,18,10,13]\n",
    "print (\"O maior elemento é: \", max(lstNumeros))\n",
    "print (\"A soma dos elementos é: \", sum(lstNumeros))\n",
    "\n",
    "'''outro método para a soma'''\n",
    "def soma(lstNumeros):\n",
    "  s = 0\n",
    "  for elemento in lstNumeros:\n",
    "    s+=elemento\n",
    "  return s\n",
    "print(\"A soma dos elementos é: \" + str(soma(lstNumeros)))\n",
    "\n",
    "print (\"Número de ocorrências do primeiro elemento: \", lstNumeros.count(lstNumeros[0]))\n",
    "print (\"A média dos elementos é: \", sum(lstNumeros) / len(lstNumeros))\n",
    "print (\"O valor mais próximo da média é: \", )\n",
    "print (\"O valor negativo da soma dos elementos é: \", sum(lstNumeros)*-1)"
   ]
  },
  {
   "cell_type": "markdown",
   "metadata": {},
   "source": [
    "2 Faça um programa que receba duas listas e retorne True se são iguais ou False caso\n",
    "contrario.\n",
    "Duas listas são iguais se possuem os mesmos valores e na mesma ordem."
   ]
  },
  {
   "cell_type": "code",
   "execution_count": 16,
   "metadata": {},
   "outputs": [
    {
     "data": {
      "text/plain": [
       "False"
      ]
     },
     "execution_count": 16,
     "metadata": {},
     "output_type": "execute_result"
    }
   ],
   "source": [
    "lst1 = [10,20,30]\n",
    "lst2 = [30,20,10]\n",
    "\n",
    "lst1 == lst2"
   ]
  },
  {
   "cell_type": "markdown",
   "metadata": {},
   "source": [
    "3 Faça um programa que receba duas listas e retorne True se têm os mesmos\n",
    "elementos ou False caso contrário.\n",
    "Duas listas possuem os mesmos elementos quando são compostas pelos mesmos\n",
    "valores, mas não obrigatoriamente na mesma ordem."
   ]
  },
  {
   "cell_type": "code",
   "execution_count": 18,
   "metadata": {},
   "outputs": [
    {
     "data": {
      "text/plain": [
       "True"
      ]
     },
     "execution_count": 18,
     "metadata": {},
     "output_type": "execute_result"
    }
   ],
   "source": [
    "lst1 = [1,2,3,4,5,6]\n",
    "lst2 = [2,4,1,3,6,5]\n",
    "\n",
    "if lst1 != lst2:\n",
    "    lst2.sort()\n",
    "    \n",
    "lst1 == lst2"
   ]
  },
  {
   "cell_type": "markdown",
   "metadata": {},
   "source": [
    "4 Faça um programa que percorre uma lista com o seguinte formato: [[&#39;Brasil&#39;,\n",
    "&#39;Italia&#39;, [10, 9]], [&#39;Brasil&#39;, &#39;Espanha&#39;, [5, 7]], [&#39;Italia&#39;, &#39;Espanha&#39;, [7,8]]]. Essa lista indica o\n",
    "número de faltas que cada time fez em cada jogo. Na lista acima, no jogo entre Brasil\n",
    "e Itália, o Brasil fez 10 faltas e a Itália fez 9.\n",
    "O programa deve imprimir na tela:\n",
    "- o total de faltas do campeonato\n",
    "- o time que fez mais faltas\n",
    "- o time que fez menos faltas"
   ]
  },
  {
   "cell_type": "code",
   "execution_count": 1,
   "metadata": {},
   "outputs": [
    {
     "name": "stdout",
     "output_type": "stream",
     "text": [
      "O total de faltas do campeonato é de:  46\n"
     ]
    }
   ],
   "source": [
    "lista1 = [['Brasil', 'Italia', [10, 9]], ['Brasil', 'Espanha', [5, 7]], ['Italia', 'Espanha', [7,8]]]\n",
    "\n",
    "faltas = [indice[2] for indice in lista1]\n",
    "print (\"O total de faltas do campeonato é de: \", sum(faltas[0] + faltas[1] + faltas[2]))"
   ]
  },
  {
   "cell_type": "markdown",
   "metadata": {},
   "source": [
    "5 Escreva um programa que conta a quantidade de vogais em uma string e armazena\n",
    "tal quantidade em um dicionário, onde a chave é a vogal considerada."
   ]
  },
  {
   "cell_type": "code",
   "execution_count": 7,
   "metadata": {},
   "outputs": [
    {
     "name": "stdout",
     "output_type": "stream",
     "text": [
      "Quantidade de A:  2\n",
      "Quantidade de E:  1\n",
      "Quantidade de I:  0\n",
      "Quantidade de O:  1\n",
      "Quantidade de U:  1\n"
     ]
    }
   ],
   "source": [
    "string1 = \"Matheus Sacho\"\n",
    "dic =  { \"a\" : 0, \"e\" : 0, \"i\" : 0, \"o\" : 0, \"u\" : 0 }\n",
    "\n",
    "for vogal in string1:\n",
    "    if vogal.lower() == \"a\":\n",
    "        dic[\"a\"] += 1\n",
    "    if vogal.lower() == \"e\":\n",
    "        dic[\"e\"] += 1\n",
    "    if vogal.lower() == \"i\":\n",
    "        dic[\"i\"] += 1\n",
    "    if vogal.lower() == \"o\":\n",
    "        dic[\"o\"] += 1\n",
    "    if vogal.lower() == \"u\":\n",
    "        dic[\"u\"] += 1\n",
    "        \n",
    "print (\"Quantidade de A: \",dic[\"a\"])\n",
    "print (\"Quantidade de E: \",dic[\"e\"])\n",
    "print (\"Quantidade de I: \",dic[\"i\"])\n",
    "print (\"Quantidade de O: \",dic[\"o\"])\n",
    "print (\"Quantidade de U: \",dic[\"u\"])"
   ]
  },
  {
   "cell_type": "markdown",
   "metadata": {},
   "source": [
    "6 Escreva um programa que lê̂ duas notas de vários alunos e armazena tais notas em\n",
    "um dicionário, onde a chave é o nome do aluno. A entrada de dados deve terminar\n",
    "quando for lida uma string vazia como nome. Escreva uma função que retorna a\n",
    "média do aluno, dado seu nome."
   ]
  },
  {
   "cell_type": "code",
   "execution_count": 35,
   "metadata": {},
   "outputs": [
    {
     "name": "stdout",
     "output_type": "stream",
     "text": [
      "A Média de Matheus é:  10.0\n",
      "A Média de Arthur é:  8.5\n",
      "A Média de Caetno é:  7.5\n",
      "A Média de Bruno é:  9.0\n"
     ]
    }
   ],
   "source": [
    "alunosENotas = {\"Matheus\" : [10,10], \"Arthur\" : [9,8], \"Caetano\" : [10,5], \"Bruno\" : [9,9]}\n",
    "\n",
    "print (\"A Média de Matheus é: \",sum(alunosENotas[\"Matheus\"])/2)\n",
    "print (\"A Média de Arthur é: \",sum(alunosENotas[\"Arthur\"])/2)\n",
    "print (\"A Média de Caetno é: \",sum(alunosENotas[\"Caetano\"])/2)\n",
    "print (\"A Média de Bruno é: \",sum(alunosENotas[\"Bruno\"])/2)"
   ]
  }
 ],
 "metadata": {
  "kernelspec": {
   "display_name": "Python 3",
   "language": "python",
   "name": "python3"
  },
  "language_info": {
   "codemirror_mode": {
    "name": "ipython",
    "version": 3
   },
   "file_extension": ".py",
   "mimetype": "text/x-python",
   "name": "python",
   "nbconvert_exporter": "python",
   "pygments_lexer": "ipython3",
   "version": "3.7.6"
  }
 },
 "nbformat": 4,
 "nbformat_minor": 4
}
